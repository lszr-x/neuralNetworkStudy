{
 "cells": [
  {
   "cell_type": "code",
   "execution_count": 340,
   "metadata": {},
   "outputs": [],
   "source": [
    "import numpy as np\n"
   ]
  },
  {
   "cell_type": "code",
   "execution_count": 418,
   "metadata": {},
   "outputs": [
    {
     "name": "stdout",
     "output_type": "stream",
     "text": [
      "[[  1   0  -1 ... -20 -19 -20]\n",
      " [ -1   0  -1 ...  10  11  10]\n",
      " [ -1  -2  -1 ... -20 -21 -22]\n",
      " ...\n",
      " [  1   0  -1 ...  -6  -7  -8]\n",
      " [  1   0   1 ... -68 -69 -68]\n",
      " [  1   2   1 ...  -6  -7  -8]]\n",
      "116\n",
      "-119\n",
      "[False False False ... False False False]\n",
      "9\n"
     ]
    }
   ],
   "source": [
    "# example\n",
    "nwalks=5000\n",
    "nsteps=1000\n",
    "draws=np.random.randint(0,2,size=(nwalks,nsteps))\n",
    "steps=np.where(draws>0,1,-1)\n",
    "walks=steps.cumsum(1)\n",
    "print(walks)\n",
    "print(walks.max())\n",
    "print(walks.min())\n",
    "hit30=(np.abs(walks)>=30).any(1)\n",
    "print(hit30)\n",
    "print(hit30.sum())\n",
    "crossing_times=(np.abs(walks[hit30])>=30)"
   ]
  },
  {
   "cell_type": "code",
   "execution_count": 341,
   "metadata": {},
   "outputs": [
    {
     "name": "stdout",
     "output_type": "stream",
     "text": [
      "-27\n",
      "9\n"
     ]
    }
   ],
   "source": [
    "# example\n",
    "nsteps=1000\n",
    "draws=np.random.randint(0,2,size=nsteps)\n",
    "steps=np.where(draws>0,1,-1)\n",
    "walk=steps.cumsum()\n",
    "print(walk.min())\n",
    "print(walk.max())"
   ]
  },
  {
   "cell_type": "code",
   "execution_count": 342,
   "metadata": {},
   "outputs": [],
   "source": [
    "# example\n",
    "import random\n",
    "position=0\n",
    "walk=[position]\n",
    "steps=1000\n",
    "for i in range(steps):\n",
    "    step=1 if random.randint(0,1) else -1\n",
    "    position+=step\n",
    "    walk.append(position)"
   ]
  },
  {
   "cell_type": "code",
   "execution_count": 343,
   "metadata": {
    "collapsed": true
   },
   "outputs": [
    {
     "name": "stdout",
     "output_type": "stream",
     "text": [
      "[[-0.17616325 -0.16641482 -1.35695763 -0.54890316  0.06113484]\n",
      " [-0.71471261  0.64578238  0.77790084 -2.83027716 -0.5187083 ]\n",
      " [-1.66582143 -0.47691461  0.45301731 -0.61084629  0.57599753]\n",
      " [ 0.83299087 -0.86780366  1.34780852  0.86103802 -0.5382163 ]\n",
      " [-2.65162384  1.26145071  1.41573497 -0.82463059 -0.59820675]]\n",
      "[[ 1.00000000e+00 -6.16062296e-16 -2.45548381e-16 -1.64782166e-18\n",
      "  -1.18066907e-15]\n",
      " [ 3.57152663e-17  1.00000000e+00  8.11542664e-17 -4.55822888e-17\n",
      "   5.35871597e-16]\n",
      " [ 1.12823286e-16  1.65032106e-16  1.00000000e+00 -5.69609229e-17\n",
      "   9.02637736e-16]\n",
      " [ 1.36208583e-16 -3.06976515e-16  1.08948288e-16  1.00000000e+00\n",
      "  -2.31845266e-16]\n",
      " [-5.10603876e-18 -1.63377542e-16 -6.35351592e-17  8.74538348e-18\n",
      "   1.00000000e+00]]\n"
     ]
    }
   ],
   "source": [
    "from numpy.linalg import inv,qr\n",
    "\n",
    "x=np.random.randn(5,5)\n",
    "print(x)\n",
    "x=x.T.dot(x)\n",
    "print(x.dot(inv(x)))\n"
   ]
  },
  {
   "cell_type": "code",
   "execution_count": 344,
   "metadata": {
    "collapsed": true
   },
   "outputs": [
    {
     "name": "stdout",
     "output_type": "stream",
     "text": [
      "[[0 1 2]\n",
      " [3 4 5]]\n",
      "[[ 7  8]\n",
      " [ 9 10]\n",
      " [11 12]]\n"
     ]
    },
    {
     "data": {
      "text/plain": [
       "array([[ 31,  34],\n",
       "       [112, 124]])"
      ]
     },
     "execution_count": 344,
     "metadata": {},
     "output_type": "execute_result"
    }
   ],
   "source": [
    "x=np.arange(6).reshape((2,3))\n",
    "y=np.arange(7,13).reshape((3,2))\n",
    "print(x)\n",
    "print(y)\n",
    "x.dot(y)"
   ]
  },
  {
   "cell_type": "code",
   "execution_count": 345,
   "metadata": {
    "collapsed": true
   },
   "outputs": [
    {
     "data": {
      "text/plain": [
       "2"
      ]
     },
     "execution_count": 345,
     "metadata": {},
     "output_type": "execute_result"
    }
   ],
   "source": [
    "# 其他方法\n",
    "arr=np.random.randn(10)\n",
    "(arr>0).sum()"
   ]
  },
  {
   "cell_type": "code",
   "execution_count": 346,
   "metadata": {
    "collapsed": true
   },
   "outputs": [
    {
     "name": "stdout",
     "output_type": "stream",
     "text": [
      "[[-0.39702202  0.4782717  -1.59878224 -1.19640688]\n",
      " [ 0.03875854  0.65142237  2.64965496  0.35774131]\n",
      " [ 4.42342746  0.55671088 -1.42918145  1.30671274]\n",
      " [-0.1741196   0.47898997 -0.23758289  0.57737548]\n",
      " [-0.16989848 -1.02875645  1.08258841 -0.59878501]]\n",
      "0.28855593971306276\n",
      "0.28855593971306276\n",
      "5.771118794261255\n",
      "[-0.67848486  0.92439429  1.21441741  0.16116574 -0.17871288]\n",
      "[3.72114589 1.13663847 0.4666968  0.44663763]\n"
     ]
    }
   ],
   "source": [
    "# 基本统计函数\n",
    "arr=np.random.randn(5,4)\n",
    "print(arr)\n",
    "# mean，算数平均数\n",
    "print(arr.mean())\n",
    "print(np.mean(arr))\n",
    "print(arr.sum())\n",
    "print(arr.mean(axis=1))\n",
    "print(arr.sum(0))\n",
    "# P105"
   ]
  },
  {
   "cell_type": "code",
   "execution_count": 347,
   "metadata": {
    "collapsed": true
   },
   "outputs": [
    {
     "name": "stdout",
     "output_type": "stream",
     "text": [
      "[1.0, 2.1, 1.2000000000000002, 2.3000000000000003, 1.4000000000000004]\n",
      "[1.  2.1 1.2 2.3 1.4]\n"
     ]
    },
    {
     "data": {
      "text/plain": [
       "array([[ 2, -2,  2,  2],\n",
       "       [-2, -2,  2, -2],\n",
       "       [-2, -2,  2,  2],\n",
       "       [-2, -2, -2, -2]])"
      ]
     },
     "execution_count": 347,
     "metadata": {},
     "output_type": "execute_result"
    }
   ],
   "source": [
    "# 条件逻辑转化为数组运算\n",
    "xarr=np.arange(1,1.5,0.1)\n",
    "yarr=np.arange(2,2.5,0.1)\n",
    "cond=np.array([True,False,True,False,True])\n",
    "result=[(x if c else y)for x,y,c in zip(xarr,yarr,cond)]\n",
    "print(result)\n",
    "\n",
    "\n",
    "# where函数的作用：第一个为判断条件，第二个为true的赋值，第三个为false的赋值，即;if c 则x else y\n",
    "# 可以使用where写组合嵌套的语句来实现if的嵌套调用\n",
    "result=np.where(cond,xarr,yarr)\n",
    "print(result)\n",
    "\n",
    "\n",
    "arr=np.random.randn(4,4)\n",
    "np.where(arr>0,2,-2)\n"
   ]
  },
  {
   "cell_type": "code",
   "execution_count": 348,
   "metadata": {
    "collapsed": true
   },
   "outputs": [
    {
     "name": "stdout",
     "output_type": "stream",
     "text": [
      "[[-5.   -5.   -5.   ... -5.   -5.   -5.  ]\n",
      " [-4.99 -4.99 -4.99 ... -4.99 -4.99 -4.99]\n",
      " [-4.98 -4.98 -4.98 ... -4.98 -4.98 -4.98]\n",
      " ...\n",
      " [ 4.97  4.97  4.97 ...  4.97  4.97  4.97]\n",
      " [ 4.98  4.98  4.98 ...  4.98  4.98  4.98]\n",
      " [ 4.99  4.99  4.99 ...  4.99  4.99  4.99]]\n",
      "[[-5.   -4.99 -4.98 ...  4.97  4.98  4.99]\n",
      " [-5.   -4.99 -4.98 ...  4.97  4.98  4.99]\n",
      " [-5.   -4.99 -4.98 ...  4.97  4.98  4.99]\n",
      " ...\n",
      " [-5.   -4.99 -4.98 ...  4.97  4.98  4.99]\n",
      " [-5.   -4.99 -4.98 ...  4.97  4.98  4.99]\n",
      " [-5.   -4.99 -4.98 ...  4.97  4.98  4.99]]\n"
     ]
    },
    {
     "data": {
      "text/plain": [
       "Text(0.5,1,'Image plot of $\\\\sqrt{x^2+y^2}$ for a grid of values')"
      ]
     },
     "execution_count": 348,
     "metadata": {},
     "output_type": "execute_result"
    }
   ],
   "source": [
    "# 初步处理数据\n",
    "points=np.arange(-5,5,0.01)\n",
    "xs,ys=np.meshgrid(points,points)\n",
    "# meshgrid:输入两个一维数组，产生两个互相对应的二维矩阵\n",
    "print(ys)\n",
    "print(xs)\n",
    "\n",
    "import matplotlib.pyplot as plt\n",
    "z=np.sqrt(xs**2+ys**2)\n",
    "plt.imshow(z,cmap=plt.cm.gray)\n",
    "plt.colorbar()\n",
    "plt.title(\"Image plot of $\\sqrt{x^2+y^2}$ for a grid of values\")\n"
   ]
  },
  {
   "cell_type": "code",
   "execution_count": 349,
   "metadata": {
    "collapsed": true
   },
   "outputs": [
    {
     "name": "stdout",
     "output_type": "stream",
     "text": [
      "[0.         1.         1.41421356 1.73205081 2.         2.23606798\n",
      " 2.44948974 2.64575131 2.82842712 3.        ]\n",
      "[1.00000000e+00 2.71828183e+00 7.38905610e+00 2.00855369e+01\n",
      " 5.45981500e+01 1.48413159e+02 4.03428793e+02 1.09663316e+03\n",
      " 2.98095799e+03 8.10308393e+03]\n",
      "[ 2.20482219  0.10724594  0.31952684  0.2403623   1.61432893 -0.42471737\n",
      " -0.9793813   0.72904903]\n",
      "[  6.03008777  -4.97274923  -1.52196036   1.85489625 -10.89409552\n",
      "  -2.06277111  -4.59852586]\n",
      "(array([ 0.03008777, -0.97274923, -0.52196036,  0.85489625, -0.89409552,\n",
      "       -0.06277111, -0.59852586]), array([  6.,  -4.,  -1.,   1., -10.,  -2.,  -4.]))\n"
     ]
    }
   ],
   "source": [
    "#     通用函数\n",
    "arr=np.arange(10)\n",
    "# 开方\n",
    "print(np.sqrt(arr))\n",
    "# exp\n",
    "print(np.exp(arr))\n",
    "# maximum\n",
    "x=np.random.randn(8)\n",
    "y=np.random.randn(8)\n",
    "print(np.maximum(x,y))\n",
    "# 返回浮点数的小数部分和整数部分\n",
    "arr=np.random.randn(7)*5\n",
    "print(arr)\n",
    "print(np.modf(arr))\n"
   ]
  },
  {
   "cell_type": "code",
   "execution_count": 350,
   "metadata": {
    "collapsed": true
   },
   "outputs": [
    {
     "name": "stdout",
     "output_type": "stream",
     "text": [
      "[[ 0  1  2  3  4]\n",
      " [ 5  6  7  8  9]\n",
      " [10 11 12 13 14]]\n",
      "[[ 0  5 10]\n",
      " [ 1  6 11]\n",
      " [ 2  7 12]\n",
      " [ 3  8 13]\n",
      " [ 4  9 14]]\n",
      "[[ 1.92295924 -1.22773568 -1.79295662]\n",
      " [-1.22773568  4.97784327  3.46171028]\n",
      " [-1.79295662  3.46171028  5.54209004]]\n",
      "[[[ 0  1  2  3]\n",
      "  [ 4  5  6  7]]\n",
      "\n",
      " [[ 8  9 10 11]\n",
      "  [12 13 14 15]]]\n",
      "\n",
      "[[[ 0  1  2  3]\n",
      "  [ 8  9 10 11]]\n",
      "\n",
      " [[ 4  5  6  7]\n",
      "  [12 13 14 15]]]\n"
     ]
    }
   ],
   "source": [
    "#     数组转置和轴对换\n",
    "arr=np.arange(15).reshape((3,5))\n",
    "print(arr)\n",
    "print(arr.T)\n",
    "\n",
    "\n",
    "arr=np.random.randn(6,3)\n",
    "print(np.dot(arr.T,arr))\n",
    "arr=np.arange(16).reshape((2,2,4))\n",
    "print(arr)\n",
    "print()\n",
    "print(arr.transpose((1,0,2)))"
   ]
  },
  {
   "cell_type": "code",
   "execution_count": 351,
   "metadata": {
    "collapsed": true
   },
   "outputs": [
    {
     "name": "stdout",
     "output_type": "stream",
     "text": [
      "#       布尔型索引\n",
      "['Bob' 'Joe' 'Will' 'Bob' 'Will' 'Joe' 'Joe']\n",
      "[[ 0.35813348  0.40904335  1.44879517  2.52538182]\n",
      " [-1.25084473  1.56911112 -0.01741575  0.72938804]\n",
      " [ 1.74571192 -1.11463884  0.48158281 -1.79494532]\n",
      " [ 1.18924718  2.24703057 -0.41192085  1.66313516]\n",
      " [ 1.43616206 -1.44751242  0.39246687 -0.83484175]\n",
      " [-1.25195733 -0.32455661 -0.64727746 -0.98289653]\n",
      " [-1.17574155 -3.07374432 -0.33113966 -1.22248128]]\n",
      "[ True False False  True False False False]\n",
      "[[ 0.35813348  0.40904335  1.44879517  2.52538182]\n",
      " [ 1.18924718  2.24703057 -0.41192085  1.66313516]]\n"
     ]
    }
   ],
   "source": [
    "print(\"#       布尔型索引\")\n",
    "names=np.array(['Bob','Joe','Will','Bob','Will','Joe','Joe'])\n",
    "data=np.random.randn(7,4)\n",
    "print(names)\n",
    "print(data)\n",
    "print(names=='Bob')\n",
    "print(data[names=='Bob'])\n"
   ]
  },
  {
   "cell_type": "code",
   "execution_count": 352,
   "metadata": {
    "collapsed": true
   },
   "outputs": [
    {
     "name": "stdout",
     "output_type": "stream",
     "text": [
      "#     索引和切片\n",
      "[0 1 2 3 4 5 6 7 8 9]\n",
      "5\n",
      "[5 6 7]\n",
      "[ 0  1  2  3  4 12 12 12  8  9]\n",
      "#      切片的数据会反应到源数据上面去\n",
      "[ 12 666  12]\n",
      "[  0   1   2   3   4  12 666  12   8   9]\n",
      "#     如果想要复制则：\n",
      "[ 12 666   0]\n",
      "[  0   1   2   3   4  12 666  12   8   9]\n",
      "#     对于高维数组，切片是可以选取多个轴，即：\n",
      "[[1 2 3]\n",
      " [4 5 6]]\n",
      "[[2 3]\n",
      " [5 6]]\n",
      "#          得到更低维度的切片,通过切片和索引的结合\n",
      "[4 5]\n"
     ]
    }
   ],
   "source": [
    "print(\"#     索引和切片\")\n",
    "arr=np.arange(10)\n",
    "print(arr)\n",
    "print(arr[5])\n",
    "print(arr[5:8])   #    [5:8]为第6，7，8个，即(5:8]\n",
    "\n",
    "arr[5:8]=12\n",
    "print(arr)\n",
    "\n",
    "print(\"#      切片的数据会反应到源数据上面去\")\n",
    "test_slice=arr[5:8]\n",
    "test_slice[1]=666\n",
    "print(test_slice)\n",
    "print(arr)\n",
    "\n",
    "\n",
    "print('#     如果想要复制则：')\n",
    "copy_slice=arr[5:8].copy()\n",
    "copy_slice[2]=0\n",
    "print(copy_slice)\n",
    "print(arr)\n",
    "print('#     对于高维数组，切片是可以选取多个轴，即：')\n",
    "arr2d=np.array([[1,2,3],[4,5,6],[7,8,9]])\n",
    "print(arr2d[:2])\n",
    "print(arr2d[:2,1:])\n",
    "\n",
    "print(\"#          得到更低维度的切片,通过切片和索引的结合\")\n",
    "print(arr2d[1,:2])\n"
   ]
  },
  {
   "cell_type": "code",
   "execution_count": 353,
   "metadata": {
    "collapsed": true
   },
   "outputs": [
    {
     "name": "stdout",
     "output_type": "stream",
     "text": [
      "[[1. 2. 3.]\n",
      " [4. 5. 6.]]\n",
      "[[ 1.  4.  9.]\n",
      " [16. 25. 36.]]\n",
      "[[0. 0. 0.]\n",
      " [0. 0. 0.]]\n",
      "[[1.         0.5        0.33333333]\n",
      " [0.25       0.2        0.16666667]]\n",
      "[[1.         1.41421356 1.73205081]\n",
      " [2.         2.23606798 2.44948974]]\n"
     ]
    }
   ],
   "source": [
    "#    数组和标量间的运算,即加减乘除，开方\n",
    "arr=np.array([[1.,2.,3.],[4.,5.,6.]])\n",
    "print (arr)\n",
    "print(arr*arr)\n",
    "print(arr-arr)\n",
    "print(1/arr)\n",
    "print(arr**0.5)"
   ]
  },
  {
   "cell_type": "code",
   "execution_count": 354,
   "metadata": {
    "collapsed": true
   },
   "outputs": [
    {
     "name": "stdout",
     "output_type": "stream",
     "text": [
      "[6.  7.5 8.  0.  1. ]\n",
      "[[1 2 3 4]\n",
      " [5 6 7 8]]\n",
      "2\n",
      "(2, 4)\n",
      "float64\n",
      "int64\n",
      "[[1 2 3 4]\n",
      " [5 6 7 8]]\n",
      "[[1 1 1 1]\n",
      " [1 1 1 1]]\n",
      "[[1. 0. 0.]\n",
      " [0. 1. 0.]\n",
      " [0. 0. 1.]]\n",
      "[[1. 0. 0.]\n",
      " [0. 1. 0.]\n",
      " [0. 0. 1.]]\n",
      "[0. 0. 0. 0. 0. 0. 0. 0. 0. 0.]\n",
      "[1. 1. 1. 1. 1. 1. 1. 1. 1. 1.]\n",
      "[[0. 0. 0.]\n",
      " [0. 0. 0.]\n",
      " [0. 0. 0.]\n",
      " [0. 0. 0.]\n",
      " [0. 0. 0.]]\n",
      "[[[1.         1.41421356 1.73205081]\n",
      "  [2.         2.23606798 2.44948974]]]\n",
      "[0 1 2 3 4 5 6 7 8 9]\n"
     ]
    }
   ],
   "source": [
    "#     创建数组以及数组的一些参数\n",
    "\n",
    "\n",
    "\n",
    "data1=[6,7.5,8,0,1]\n",
    "arr1=np.array(data1)\n",
    "print(arr1)\n",
    "data2=[[1,2,3,4],[5,6,7,8]]\n",
    "arr2=np.array(data2)\n",
    "print(arr2)\n",
    "print(arr2.ndim)\n",
    "print(arr2.shape)\n",
    "print(arr1.dtype)\n",
    "print(arr2.dtype)\n",
    "arr2=np.asarray(arr2)\n",
    "print(arr2)\n",
    "print (np.ones_like(arr2))\n",
    "print(np.eye(3))\n",
    "print(np.identity(3))\n",
    "\n",
    "\n",
    "\n",
    "zero_array=np.zeros(10)\n",
    "print(zero_array)\n",
    "ont_array=np.ones(10)\n",
    "print(ont_array)\n",
    "zero_array2=np.zeros((5,3))\n",
    "print(zero_array2)\n",
    "empty_array=np.empty((1,2,3))\n",
    "print(empty_array)\n",
    "\n",
    "\n",
    "print (np.arange(10))"
   ]
  },
  {
   "cell_type": "code",
   "execution_count": 355,
   "metadata": {
    "collapsed": true
   },
   "outputs": [
    {
     "name": "stdout",
     "output_type": "stream",
     "text": [
      "int64\n",
      "float64\n",
      "[1 2 3]\n",
      "[111 121]\n",
      "[  1.11 121.  ]\n",
      "[b'11' b'22' b'39']\n"
     ]
    }
   ],
   "source": [
    "#     显式转换dtype\n",
    "arr=np.array([1,2,3,4,5])\n",
    "print(arr.dtype)\n",
    "float_arr=arr.astype(np.float64)\n",
    "print(float_arr.dtype)\n",
    "\n",
    "\n",
    "arr=np.array([1.1,2.2,3.9])\n",
    "arr=arr.astype(np.int64)\n",
    "print(arr)\n",
    "\n",
    "arr=np.array([\"111\",\"121\"])\n",
    "arr=arr.astype(np.int64)\n",
    "print(arr)\n",
    "\n",
    "arr=np.array([\"1.11\",\"121\"])\n",
    "arr=arr.astype(np.float)\n",
    "print(arr)\n",
    "\n",
    "arr=np.array([11,22,39])\n",
    "arr=arr.astype(np.string_)\n",
    "print(arr)\n",
    "\n"
   ]
  }
 ],
 "metadata": {
  "kernelspec": {
   "display_name": "Python [default]",
   "language": "python",
   "name": "python3"
  },
  "language_info": {
   "codemirror_mode": {
    "name": "ipython",
    "version": 3
   },
   "file_extension": ".py",
   "mimetype": "text/x-python",
   "name": "python",
   "nbconvert_exporter": "python",
   "pygments_lexer": "ipython3",
   "version": "3.6.4"
  }
 },
 "nbformat": 4,
 "nbformat_minor": 2
}
