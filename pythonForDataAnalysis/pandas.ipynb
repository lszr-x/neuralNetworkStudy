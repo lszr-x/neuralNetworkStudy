{
 "cells": [
  {
   "cell_type": "code",
   "execution_count": 36,
   "metadata": {},
   "outputs": [],
   "source": [
    "import numpy as np\n",
    "import pandas as pd\n",
    "from pandas import Series,DataFrame"
   ]
  },
  {
   "cell_type": "code",
   "execution_count": null,
   "metadata": {},
   "outputs": [],
   "source": []
  },
  {
   "cell_type": "code",
   "execution_count": null,
   "metadata": {},
   "outputs": [],
   "source": [
    "# DataFrame和Series之间的计算\n",
    "arr=np.arange(12).reshape(3,4)\n"
   ]
  },
  {
   "cell_type": "code",
   "execution_count": 67,
   "metadata": {},
   "outputs": [
    {
     "name": "stdout",
     "output_type": "stream",
     "text": [
      "0    0.0\n",
      "1    2.0\n",
      "2    4.0\n",
      "3    NaN\n",
      "4    NaN\n",
      "5    NaN\n",
      "dtype: float64\n",
      "   a  b   c   d\n",
      "0  0  1   2   3\n",
      "1  4  5   6   7\n",
      "2  8  9  10  11\n",
      "    a   b   c   d   e\n",
      "0   0   1   2   3   4\n",
      "1   5   6   7   8   9\n",
      "2  10  11  12  13  14\n",
      "3  15  16  17  18  19\n",
      "      a     b     c     d   e\n",
      "0   0.0   2.0   4.0   6.0 NaN\n",
      "1   9.0  11.0  13.0  15.0 NaN\n",
      "2  18.0  20.0  22.0  24.0 NaN\n",
      "3   NaN   NaN   NaN   NaN NaN\n",
      "      a     b     c     d     e\n",
      "0   0.0   2.0   4.0   6.0   4.0\n",
      "1   9.0  11.0  13.0  15.0   9.0\n",
      "2  18.0  20.0  22.0  24.0  14.0\n",
      "3  15.0  16.0  17.0  18.0  19.0\n"
     ]
    }
   ],
   "source": [
    "# 算术运算和数据对齐\n",
    "s1=Series(np.arange(3))\n",
    "s2=Series(np.arange(6))\n",
    "print(s1+s2)\n",
    "\n",
    "df1=DataFrame(np.arange(12).reshape((3,4)),columns=list('abcd'))\n",
    "df2=DataFrame(np.arange(20).reshape((4,5)),columns=list('abcde'))\n",
    "\n",
    "print(df1)\n",
    "print(df2)\n",
    "print(df1+df2)\n",
    "print(df1.add(df2,fill_value=0))"
   ]
  },
  {
   "cell_type": "code",
   "execution_count": 61,
   "metadata": {},
   "outputs": [
    {
     "name": "stdout",
     "output_type": "stream",
     "text": [
      "1    0\n",
      "2    1\n",
      "3    2\n",
      "4    3\n",
      "5    4\n",
      "dtype: int64\n",
      "2    1\n",
      "3    2\n",
      "4    3\n",
      "5    4\n",
      "dtype: int64\n",
      "3    2\n",
      "4    3\n",
      "dtype: int64\n"
     ]
    }
   ],
   "source": [
    "# 丢弃指定轴上的项\n",
    "obj=Series(np.arange(5),index=[1,2,3,4,5])\n",
    "print(obj)\n",
    "obj=obj.drop(1)\n",
    "print(obj)\n",
    "\n",
    "\n",
    "# 索引，选取和过滤\n",
    "obj=Series(np.arange(5),index=[1,2,3,4,5])\n",
    "print(obj[2:4])\n",
    "\n"
   ]
  },
  {
   "cell_type": "code",
   "execution_count": 54,
   "metadata": {},
   "outputs": [
    {
     "name": "stdout",
     "output_type": "stream",
     "text": [
      "a   -5.0\n",
      "b    7.0\n",
      "c    3.0\n",
      "d    4.0\n",
      "e    NaN\n",
      "dtype: float64\n",
      "a   -5.0\n",
      "b    7.0\n",
      "c    3.0\n",
      "d    4.0\n",
      "k    0.0\n",
      "f    0.0\n",
      "dtype: float64\n",
      "0      one\n",
      "2      two\n",
      "4    three\n",
      "dtype: object\n"
     ]
    },
    {
     "data": {
      "text/plain": [
       "0      one\n",
       "1      one\n",
       "2      two\n",
       "3      two\n",
       "4    three\n",
       "5    three\n",
       "dtype: object"
      ]
     },
     "execution_count": 54,
     "metadata": {},
     "output_type": "execute_result"
    }
   ],
   "source": [
    "# 重新索引\n",
    "obj=Series([4,7,-5,3],index=['d','b','a','c'])\n",
    "obj=obj.reindex(['a','b','c','d','e'])\n",
    "print(obj)\n",
    "obj=obj.reindex(['a','b','c','d','k','f'],fill_value=0)\n",
    "print(obj)\n",
    "\n",
    "obj=Series(['one','two','three'],index=[0,2,4])\n",
    "print(obj)\n",
    "obj.reindex(range(6),method='ffill')"
   ]
  },
  {
   "cell_type": "code",
   "execution_count": 45,
   "metadata": {},
   "outputs": [
    {
     "name": "stdout",
     "output_type": "stream",
     "text": [
      "a    0\n",
      "b    1\n",
      "c    2\n",
      "dtype: int64\n",
      "Index(['a', 'b', 'c'], dtype='object')\n"
     ]
    }
   ],
   "source": [
    "# 索引对象\n",
    "obj=Series(range(3),index=['a','b','c'])\n",
    "index=obj.index\n",
    "print(obj)\n",
    "print(index)"
   ]
  },
  {
   "cell_type": "code",
   "execution_count": 43,
   "metadata": {},
   "outputs": [
    {
     "name": "stdout",
     "output_type": "stream",
     "text": [
      "  one three two\n",
      "0   1     5   3\n",
      "1   2     6   4\n",
      "  one two three four\n",
      "0   1   3     5  NaN\n",
      "1   2   4     6  NaN\n",
      "0    NaN\n",
      "1    NaN\n",
      "Name: four, dtype: object\n",
      "0    1\n",
      "1    2\n",
      "Name: one, dtype: object\n",
      "   one two three four\n",
      "0  100   3     5  NaN\n",
      "1  100   4     6  NaN\n",
      "   one  two three four\n",
      "0  100    0     5  NaN\n",
      "1  100    1     6  NaN\n"
     ]
    }
   ],
   "source": [
    "# DataFrame\n",
    "data={'one':['1','2'],\n",
    "     'two':['3','4'],\n",
    "     'three':['5','6']}\n",
    "frame=DataFrame(data)\n",
    "print(frame)\n",
    "frame=DataFrame(data,columns=['one','two','three','four'])\n",
    "print(frame)\n",
    "print(frame['four'])\n",
    "print(frame.one)\n",
    "# print(frame.ix[0])     ix被废弃了\n",
    "frame['one']=100\n",
    "print(frame)\n",
    "frame['two']=np.arange(2)\n",
    "print(frame)\n",
    "\n",
    "\n"
   ]
  },
  {
   "cell_type": "code",
   "execution_count": 16,
   "metadata": {},
   "outputs": [
    {
     "name": "stdout",
     "output_type": "stream",
     "text": [
      "one      1\n",
      "three    3\n",
      "two      2\n",
      "dtype: int64\n",
      "one      False\n",
      "three    False\n",
      "two      False\n",
      "dtype: bool\n",
      "one      False\n",
      "three    False\n",
      "two      False\n",
      "dtype: bool\n"
     ]
    }
   ],
   "source": [
    "sdata={'one':1,'two':2,'three':3}\n",
    "obj=Series(sdata)\n",
    "print(obj)\n",
    "\n",
    "print(pd.isnull(obj))\n",
    "print(obj.isnull())\n"
   ]
  },
  {
   "cell_type": "code",
   "execution_count": 12,
   "metadata": {
    "scrolled": true
   },
   "outputs": [
    {
     "name": "stdout",
     "output_type": "stream",
     "text": [
      "0    4\n",
      "1    7\n",
      "2   -5\n",
      "3    3\n",
      "dtype: int64\n",
      "[ 4  7 -5  3]\n",
      "RangeIndex(start=0, stop=4, step=1) \n",
      "\n",
      "d    4\n",
      "b    7\n",
      "a   -5\n",
      "c    3\n",
      "dtype: int64\n",
      "Index(['d', 'b', 'a', 'c'], dtype='object')\n",
      "-5\n",
      "c    3\n",
      "a   -5\n",
      "d    6\n",
      "dtype: int64\n",
      "d    6\n",
      "b    7\n",
      "c    3\n",
      "dtype: int64\n"
     ]
    }
   ],
   "source": [
    "# 数据结构：Series\n",
    "obj=Series([4,7,-5,3])\n",
    "print(obj)\n",
    "print(obj.values)\n",
    "print(obj.index,'\\n')\n",
    "\n",
    "\n",
    "obj2=Series([4,7,-5,3],index=['d','b','a','c'])\n",
    "print(obj2)\n",
    "print(obj2.index)\n",
    "print(obj2['a'])\n",
    "obj2['d']=6\n",
    "print(obj2[['c','a','d']])\n",
    "\n",
    "print(obj2[obj2>0])\n"
   ]
  }
 ],
 "metadata": {
  "kernelspec": {
   "display_name": "Python [default]",
   "language": "python",
   "name": "python3"
  },
  "language_info": {
   "codemirror_mode": {
    "name": "ipython",
    "version": 3
   },
   "file_extension": ".py",
   "mimetype": "text/x-python",
   "name": "python",
   "nbconvert_exporter": "python",
   "pygments_lexer": "ipython3",
   "version": "3.6.4"
  }
 },
 "nbformat": 4,
 "nbformat_minor": 2
}
