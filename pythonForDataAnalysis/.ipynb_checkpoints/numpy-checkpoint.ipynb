{
 "cells": [
  {
   "cell_type": "code",
   "execution_count": 3,
   "metadata": {},
   "outputs": [],
   "source": [
    "import numpy as np\n"
   ]
  },
  {
   "cell_type": "code",
   "execution_count": null,
   "metadata": {},
   "outputs": [],
   "source": [
    "#    数组和标量间的运算\n",
    "arr=np.array([[1.,2.,3.],[4.,5.,6.]])\n"
   ]
  },
  {
   "cell_type": "code",
   "execution_count": 54,
   "metadata": {
    "collapsed": true
   },
   "outputs": [
    {
     "name": "stdout",
     "output_type": "stream",
     "text": [
      "[6.  7.5 8.  0.  1. ]\n",
      "[[1 2 3 4]\n",
      " [5 6 7 8]]\n",
      "2\n",
      "(2, 4)\n",
      "float64\n",
      "int64\n",
      "[[1 2 3 4]\n",
      " [5 6 7 8]]\n",
      "[[1 1 1 1]\n",
      " [1 1 1 1]]\n",
      "[[1. 0. 0.]\n",
      " [0. 1. 0.]\n",
      " [0. 0. 1.]]\n",
      "[[1. 0. 0.]\n",
      " [0. 1. 0.]\n",
      " [0. 0. 1.]]\n",
      "[0. 0. 0. 0. 0. 0. 0. 0. 0. 0.]\n",
      "[1. 1. 1. 1. 1. 1. 1. 1. 1. 1.]\n",
      "[[0. 0. 0.]\n",
      " [0. 0. 0.]\n",
      " [0. 0. 0.]\n",
      " [0. 0. 0.]\n",
      " [0. 0. 0.]]\n",
      "[[[1.03977794e-312 2.42092166e-322 9.76118064e-313]\n",
      "  [1.03977794e-312 0.00000000e+000 0.00000000e+000]]]\n"
     ]
    }
   ],
   "source": [
    "#     创建数组以及数组的一些参数\n",
    "\n",
    "\n",
    "\n",
    "data1=[6,7.5,8,0,1]\n",
    "arr1=np.array(data1)\n",
    "print(arr1)\n",
    "data2=[[1,2,3,4],[5,6,7,8]]\n",
    "arr2=np.array(data2)\n",
    "print(arr2)\n",
    "print(arr2.ndim)\n",
    "print(arr2.shape)\n",
    "print(arr1.dtype)\n",
    "print(arr2.dtype)\n",
    "arr2=np.asarray(arr2)\n",
    "print(arr2)\n",
    "print (np.ones_like(arr2))\n",
    "print(np.eye(3))\n",
    "print(np.identity(3))\n",
    "\n",
    "\n",
    "\n",
    "zero_array=np.zeros(10)\n",
    "print(zero_array)\n",
    "ont_array=np.ones(10)\n",
    "print(ont_array)\n",
    "zero_array2=np.zeros((5,3))\n",
    "print(zero_array2)\n",
    "empty_array=np.empty((1,2,3))\n",
    "print(empty_array)\n",
    "\n",
    "\n",
    "print (np.arange(10))"
   ]
  },
  {
   "cell_type": "code",
   "execution_count": 52,
   "metadata": {
    "collapsed": true
   },
   "outputs": [
    {
     "name": "stdout",
     "output_type": "stream",
     "text": [
      "int64\n",
      "float64\n",
      "[1 2 3]\n",
      "[111 121]\n",
      "[  1.11 121.  ]\n",
      "[b'11' b'22' b'39']\n"
     ]
    }
   ],
   "source": [
    "#     显式转换dtype\n",
    "arr=np.array([1,2,3,4,5])\n",
    "print(arr.dtype)\n",
    "float_arr=arr.astype(np.float64)\n",
    "print(float_arr.dtype)\n",
    "\n",
    "\n",
    "arr=np.array([1.1,2.2,3.9])\n",
    "arr=arr.astype(np.int64)\n",
    "print(arr)\n",
    "\n",
    "arr=np.array([\"111\",\"121\"])\n",
    "arr=arr.astype(np.int64)\n",
    "print(arr)\n",
    "\n",
    "arr=np.array([\"1.11\",\"121\"])\n",
    "arr=arr.astype(np.float)\n",
    "print(arr)\n",
    "\n",
    "arr=np.array([11,22,39])\n",
    "arr=arr.astype(np.string_)\n",
    "print(arr)\n",
    "\n"
   ]
  }
 ],
 "metadata": {
  "kernelspec": {
   "display_name": "Python [default]",
   "language": "python",
   "name": "python3"
  },
  "language_info": {
   "codemirror_mode": {
    "name": "ipython",
    "version": 3
   },
   "file_extension": ".py",
   "mimetype": "text/x-python",
   "name": "python",
   "nbconvert_exporter": "python",
   "pygments_lexer": "ipython3",
   "version": "3.6.4"
  }
 },
 "nbformat": 4,
 "nbformat_minor": 2
}
